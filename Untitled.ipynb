{
 "cells": [
  {
   "cell_type": "code",
   "execution_count": null,
   "id": "d3da510b-a679-4cd2-9f3e-6f51630359cd",
   "metadata": {},
   "outputs": [],
   "source": []
  }
 ],
 "metadata": {
  "kernelspec": {
   "display_name": "",
   "name": ""
  },
  "language_info": {
   "name": ""
  }
 },
 "nbformat": 4,
 "nbformat_minor": 5
}
