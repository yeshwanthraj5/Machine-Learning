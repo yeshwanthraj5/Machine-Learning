{
 "cells": [
  {
   "cell_type": "code",
   "execution_count": 90,
   "id": "cf1f0052-44ee-4010-96f1-c1fb4a3925ad",
   "metadata": {},
   "outputs": [],
   "source": [
    "import numpy as np\n",
    "import pandas as pd\n",
    "from matplotlib import pyplot as plt"
   ]
  },
  {
   "cell_type": "markdown",
   "id": "de73013f-a5a5-4a68-b59a-cdc80228495e",
   "metadata": {},
   "source": [
    "# Importing the MNIST dataset"
   ]
  },
  {
   "cell_type": "code",
   "execution_count": 91,
   "id": "4f6ac654-583f-48fd-8ce5-8b1c0c8c0100",
   "metadata": {},
   "outputs": [],
   "source": [
    "data=pd.read_csv('train.csv')"
   ]
  },
  {
   "cell_type": "code",
   "execution_count": 92,
   "id": "e1b5c920-69e8-43d0-beab-24558a8c302d",
   "metadata": {},
   "outputs": [
    {
     "data": {
      "text/html": [
       "<div>\n",
       "<style scoped>\n",
       "    .dataframe tbody tr th:only-of-type {\n",
       "        vertical-align: middle;\n",
       "    }\n",
       "\n",
       "    .dataframe tbody tr th {\n",
       "        vertical-align: top;\n",
       "    }\n",
       "\n",
       "    .dataframe thead th {\n",
       "        text-align: right;\n",
       "    }\n",
       "</style>\n",
       "<table border=\"1\" class=\"dataframe\">\n",
       "  <thead>\n",
       "    <tr style=\"text-align: right;\">\n",
       "      <th></th>\n",
       "      <th>label</th>\n",
       "      <th>pixel0</th>\n",
       "      <th>pixel1</th>\n",
       "      <th>pixel2</th>\n",
       "      <th>pixel3</th>\n",
       "      <th>pixel4</th>\n",
       "      <th>pixel5</th>\n",
       "      <th>pixel6</th>\n",
       "      <th>pixel7</th>\n",
       "      <th>pixel8</th>\n",
       "      <th>...</th>\n",
       "      <th>pixel774</th>\n",
       "      <th>pixel775</th>\n",
       "      <th>pixel776</th>\n",
       "      <th>pixel777</th>\n",
       "      <th>pixel778</th>\n",
       "      <th>pixel779</th>\n",
       "      <th>pixel780</th>\n",
       "      <th>pixel781</th>\n",
       "      <th>pixel782</th>\n",
       "      <th>pixel783</th>\n",
       "    </tr>\n",
       "  </thead>\n",
       "  <tbody>\n",
       "    <tr>\n",
       "      <th>0</th>\n",
       "      <td>1</td>\n",
       "      <td>0</td>\n",
       "      <td>0</td>\n",
       "      <td>0</td>\n",
       "      <td>0</td>\n",
       "      <td>0</td>\n",
       "      <td>0</td>\n",
       "      <td>0</td>\n",
       "      <td>0</td>\n",
       "      <td>0</td>\n",
       "      <td>...</td>\n",
       "      <td>0</td>\n",
       "      <td>0</td>\n",
       "      <td>0</td>\n",
       "      <td>0</td>\n",
       "      <td>0</td>\n",
       "      <td>0</td>\n",
       "      <td>0</td>\n",
       "      <td>0</td>\n",
       "      <td>0</td>\n",
       "      <td>0</td>\n",
       "    </tr>\n",
       "    <tr>\n",
       "      <th>1</th>\n",
       "      <td>0</td>\n",
       "      <td>0</td>\n",
       "      <td>0</td>\n",
       "      <td>0</td>\n",
       "      <td>0</td>\n",
       "      <td>0</td>\n",
       "      <td>0</td>\n",
       "      <td>0</td>\n",
       "      <td>0</td>\n",
       "      <td>0</td>\n",
       "      <td>...</td>\n",
       "      <td>0</td>\n",
       "      <td>0</td>\n",
       "      <td>0</td>\n",
       "      <td>0</td>\n",
       "      <td>0</td>\n",
       "      <td>0</td>\n",
       "      <td>0</td>\n",
       "      <td>0</td>\n",
       "      <td>0</td>\n",
       "      <td>0</td>\n",
       "    </tr>\n",
       "    <tr>\n",
       "      <th>2</th>\n",
       "      <td>1</td>\n",
       "      <td>0</td>\n",
       "      <td>0</td>\n",
       "      <td>0</td>\n",
       "      <td>0</td>\n",
       "      <td>0</td>\n",
       "      <td>0</td>\n",
       "      <td>0</td>\n",
       "      <td>0</td>\n",
       "      <td>0</td>\n",
       "      <td>...</td>\n",
       "      <td>0</td>\n",
       "      <td>0</td>\n",
       "      <td>0</td>\n",
       "      <td>0</td>\n",
       "      <td>0</td>\n",
       "      <td>0</td>\n",
       "      <td>0</td>\n",
       "      <td>0</td>\n",
       "      <td>0</td>\n",
       "      <td>0</td>\n",
       "    </tr>\n",
       "    <tr>\n",
       "      <th>3</th>\n",
       "      <td>4</td>\n",
       "      <td>0</td>\n",
       "      <td>0</td>\n",
       "      <td>0</td>\n",
       "      <td>0</td>\n",
       "      <td>0</td>\n",
       "      <td>0</td>\n",
       "      <td>0</td>\n",
       "      <td>0</td>\n",
       "      <td>0</td>\n",
       "      <td>...</td>\n",
       "      <td>0</td>\n",
       "      <td>0</td>\n",
       "      <td>0</td>\n",
       "      <td>0</td>\n",
       "      <td>0</td>\n",
       "      <td>0</td>\n",
       "      <td>0</td>\n",
       "      <td>0</td>\n",
       "      <td>0</td>\n",
       "      <td>0</td>\n",
       "    </tr>\n",
       "    <tr>\n",
       "      <th>4</th>\n",
       "      <td>0</td>\n",
       "      <td>0</td>\n",
       "      <td>0</td>\n",
       "      <td>0</td>\n",
       "      <td>0</td>\n",
       "      <td>0</td>\n",
       "      <td>0</td>\n",
       "      <td>0</td>\n",
       "      <td>0</td>\n",
       "      <td>0</td>\n",
       "      <td>...</td>\n",
       "      <td>0</td>\n",
       "      <td>0</td>\n",
       "      <td>0</td>\n",
       "      <td>0</td>\n",
       "      <td>0</td>\n",
       "      <td>0</td>\n",
       "      <td>0</td>\n",
       "      <td>0</td>\n",
       "      <td>0</td>\n",
       "      <td>0</td>\n",
       "    </tr>\n",
       "  </tbody>\n",
       "</table>\n",
       "<p>5 rows × 785 columns</p>\n",
       "</div>"
      ],
      "text/plain": [
       "   label  pixel0  pixel1  pixel2  pixel3  pixel4  pixel5  pixel6  pixel7  \\\n",
       "0      1       0       0       0       0       0       0       0       0   \n",
       "1      0       0       0       0       0       0       0       0       0   \n",
       "2      1       0       0       0       0       0       0       0       0   \n",
       "3      4       0       0       0       0       0       0       0       0   \n",
       "4      0       0       0       0       0       0       0       0       0   \n",
       "\n",
       "   pixel8  ...  pixel774  pixel775  pixel776  pixel777  pixel778  pixel779  \\\n",
       "0       0  ...         0         0         0         0         0         0   \n",
       "1       0  ...         0         0         0         0         0         0   \n",
       "2       0  ...         0         0         0         0         0         0   \n",
       "3       0  ...         0         0         0         0         0         0   \n",
       "4       0  ...         0         0         0         0         0         0   \n",
       "\n",
       "   pixel780  pixel781  pixel782  pixel783  \n",
       "0         0         0         0         0  \n",
       "1         0         0         0         0  \n",
       "2         0         0         0         0  \n",
       "3         0         0         0         0  \n",
       "4         0         0         0         0  \n",
       "\n",
       "[5 rows x 785 columns]"
      ]
     },
     "execution_count": 92,
     "metadata": {},
     "output_type": "execute_result"
    }
   ],
   "source": [
    "data.head()"
   ]
  },
  {
   "cell_type": "code",
   "execution_count": 93,
   "id": "1acdf67b-2f93-4361-a4a1-24f2d1fb9605",
   "metadata": {},
   "outputs": [
    {
     "data": {
      "text/plain": [
       "(42000, 785)"
      ]
     },
     "execution_count": 93,
     "metadata": {},
     "output_type": "execute_result"
    }
   ],
   "source": [
    "data.shape"
   ]
  },
  {
   "cell_type": "code",
   "execution_count": 94,
   "id": "426d195e-7daf-4904-9401-b5b2cc272f0d",
   "metadata": {},
   "outputs": [],
   "source": [
    "data=np.array(data)\n",
    "m,n=data.shape\n",
    "np.random.shuffle(data)\n",
    "\n",
    "data_dev=data[0:1000].T\n",
    "Y_dev=data_dev[0]\n",
    "X_dev=data_dev[1:n]\n",
    "X_dev=X_dev/255\n",
    "\n",
    "data_train=data[1000:m].T\n",
    "Y_train=data_train[0]\n",
    "X_train=data_train[1:n]\n",
    "X_train=X_train/255\n",
    "_,m_train=X_train.shape"
   ]
  },
  {
   "cell_type": "markdown",
   "id": "c570e2e4-e78f-4faa-bb81-bf4c664a6c5b",
   "metadata": {},
   "source": [
    "# Parameter Initialization"
   ]
  },
  {
   "cell_type": "code",
   "execution_count": 95,
   "id": "db1d60a7-6214-4e04-929b-40e23eb0a990",
   "metadata": {},
   "outputs": [],
   "source": [
    "def init_params():\n",
    "    W1=np.random.rand(10,784)-0.5\n",
    "    b1=np.random.rand(10,1)-0.5\n",
    "    W2=np.random.rand(10,10)-0.5\n",
    "    b2=np.random.rand(10,1)-0.5\n",
    "    return W1,b1,W2,b2"
   ]
  },
  {
   "cell_type": "markdown",
   "id": "0a44e14b-c9c3-4614-9394-b78f40aee0e0",
   "metadata": {},
   "source": [
    "# Implementation Of Forward Propagation And Backward Propagation"
   ]
  },
  {
   "cell_type": "code",
   "execution_count": 96,
   "id": "9f49e1f8-743b-4fbb-b32c-ca5cf79fb40d",
   "metadata": {},
   "outputs": [],
   "source": [
    "# ReLU Activation Function\n",
    "def ReLU(Z):\n",
    "    return np.maximum(Z,0)\n",
    "\n",
    "\n",
    "# Softmax Activation Function\n",
    "def softmax(Z):\n",
    "    A = np.exp(Z) / np.sum(np.exp(Z), axis=0, keepdims=True)\n",
    "    return A\n",
    "\n",
    "\n",
    "# Forward Propagation\n",
    "def forward_prop(W1,b1,W2,b2,X):\n",
    "    Z1=np.dot(W1,X)+b1\n",
    "    A1=ReLU(Z1)\n",
    "    Z2=np.dot(W2,A1)+b2\n",
    "    A2=softmax(Z2)\n",
    "    return Z1,A1,Z2,A2\n",
    "\n",
    "\n",
    "# ReLU Derivative for Backpropagation\n",
    "def ReLU_deriv(Z):\n",
    "    return Z>0\n",
    "\n",
    "\n",
    "# One-Hot Encoding for Labels\n",
    "def one_hot(Y):\n",
    "    one_hot_Y=np.zeros((Y.size,Y.max()+1))\n",
    "    one_hot_Y[np.arange(Y.size),Y]=1\n",
    "    one_hot_Y=one_hot_Y.T\n",
    "    return one_hot_Y\n",
    "\n",
    "\n",
    "\n",
    "# Backward Propagation\n",
    "def backward_prop(Z1,A1,Z2,A2,W1,W2,X,Y):\n",
    "    m=X.shape[1]\n",
    "    one_hot_Y=one_hot(Y)\n",
    "    dZ2=A2-one_hot_Y\n",
    "    dW2=1/m *np.dot(dZ2,A1.T)\n",
    "    db2=1/m *np.sum(dZ2)\n",
    "    dZ1 = np.dot(W2.T, dZ2) * ReLU_deriv(Z1)\n",
    "    dW1=1/m *np.dot(dZ1,X.T)\n",
    "    db1=1/m *np.sum(dZ1)\n",
    "    return dW1,db1,dW2,db2\n",
    "    "
   ]
  },
  {
   "cell_type": "markdown",
   "id": "2429416b-1ec7-4521-b136-379dc2263649",
   "metadata": {},
   "source": [
    "# Parameter Update Using Gradient Descent"
   ]
  },
  {
   "cell_type": "code",
   "execution_count": 97,
   "id": "6b9aa9cc-879b-4698-9212-6909e299a6b8",
   "metadata": {},
   "outputs": [],
   "source": [
    "def update_params(W1,b1,W2,b2,dW1,db1,dW2,db2,alpha):\n",
    "    W1=W1-alpha*dW1\n",
    "    b1=b1-alpha*db1\n",
    "    W2=W2-alpha*dW2\n",
    "    b2=b2-alpha*db2\n",
    "    return W1,b1,W2,b2"
   ]
  },
  {
   "cell_type": "markdown",
   "id": "891d4f36-6ba5-4089-a6a3-90dd32499a30",
   "metadata": {},
   "source": [
    "# Model Training"
   ]
  },
  {
   "cell_type": "code",
   "execution_count": 103,
   "id": "a9c96d88-6ca8-496d-a49a-558c66707b70",
   "metadata": {},
   "outputs": [],
   "source": [
    "def get_predictions(A2):\n",
    "    return np.argmax(A2, 0)\n",
    "\n",
    "def get_accuracy(predictions, Y):\n",
    "    print(predictions, Y)\n",
    "    return np.sum(predictions == Y) / Y.size\n",
    "\n",
    "def gradient_descent(X, Y, alpha, iterations):\n",
    "    W1, b1, W2, b2 = init_params()\n",
    "    for i in range(iterations):\n",
    "        Z1, A1, Z2, A2 = forward_prop(W1, b1, W2, b2, X)\n",
    "        dW1, db1, dW2, db2 = backward_prop(Z1, A1, Z2, A2, W1, W2, X, Y)\n",
    "        W1, b1, W2, b2 = update_params(W1, b1, W2, b2, dW1, db1, dW2, db2, alpha)\n",
    "        if i % 10 == 0:\n",
    "            print(\"Iteration: \", i)\n",
    "            predictions = get_predictions(A2)\n",
    "            print(get_accuracy(predictions, Y)*100)\n",
    "    return W1, b1, W2, b2"
   ]
  },
  {
   "cell_type": "code",
   "execution_count": 104,
   "id": "afa45851-ce15-4fa9-b379-4e0506f23eff",
   "metadata": {},
   "outputs": [
    {
     "name": "stdout",
     "output_type": "stream",
     "text": [
      "Iteration:  0\n",
      "[3 2 9 ... 9 6 2] [4 9 0 ... 9 5 4]\n",
      "9.28048780487805\n",
      "Iteration:  10\n",
      "[3 3 8 ... 9 8 8] [4 9 0 ... 9 5 4]\n",
      "19.51707317073171\n",
      "Iteration:  20\n",
      "[3 9 8 ... 9 8 8] [4 9 0 ... 9 5 4]\n",
      "26.978048780487807\n",
      "Iteration:  30\n",
      "[5 9 0 ... 9 8 8] [4 9 0 ... 9 5 4]\n",
      "33.63414634146341\n",
      "Iteration:  40\n",
      "[5 9 0 ... 9 8 8] [4 9 0 ... 9 5 4]\n",
      "40.60243902439025\n",
      "Iteration:  50\n",
      "[5 9 0 ... 9 4 4] [4 9 0 ... 9 5 4]\n",
      "47.00731707317073\n",
      "Iteration:  60\n",
      "[5 9 0 ... 9 4 4] [4 9 0 ... 9 5 4]\n",
      "52.38292682926829\n",
      "Iteration:  70\n",
      "[5 9 0 ... 9 4 4] [4 9 0 ... 9 5 4]\n",
      "56.80731707317073\n",
      "Iteration:  80\n",
      "[5 9 0 ... 9 4 4] [4 9 0 ... 9 5 4]\n",
      "60.380487804878044\n",
      "Iteration:  90\n",
      "[5 9 0 ... 9 4 4] [4 9 0 ... 9 5 4]\n",
      "63.21219512195122\n",
      "Iteration:  100\n",
      "[5 9 0 ... 9 4 4] [4 9 0 ... 9 5 4]\n",
      "65.66829268292683\n",
      "Iteration:  110\n",
      "[5 9 0 ... 9 4 4] [4 9 0 ... 9 5 4]\n",
      "67.60731707317073\n",
      "Iteration:  120\n",
      "[5 9 0 ... 9 4 4] [4 9 0 ... 9 5 4]\n",
      "69.18536585365854\n",
      "Iteration:  130\n",
      "[5 9 0 ... 9 8 4] [4 9 0 ... 9 5 4]\n",
      "70.62682926829268\n",
      "Iteration:  140\n",
      "[5 9 0 ... 9 8 4] [4 9 0 ... 9 5 4]\n",
      "71.88292682926829\n",
      "Iteration:  150\n",
      "[5 9 0 ... 9 8 4] [4 9 0 ... 9 5 4]\n",
      "72.90731707317073\n",
      "Iteration:  160\n",
      "[5 9 0 ... 9 8 4] [4 9 0 ... 9 5 4]\n",
      "73.79024390243902\n",
      "Iteration:  170\n",
      "[5 9 0 ... 9 8 4] [4 9 0 ... 9 5 4]\n",
      "74.64146341463415\n",
      "Iteration:  180\n",
      "[5 9 0 ... 9 8 4] [4 9 0 ... 9 5 4]\n",
      "75.44146341463414\n",
      "Iteration:  190\n",
      "[5 9 0 ... 9 8 4] [4 9 0 ... 9 5 4]\n",
      "76.21463414634147\n",
      "Iteration:  200\n",
      "[5 9 0 ... 9 8 4] [4 9 0 ... 9 5 4]\n",
      "76.8390243902439\n",
      "Iteration:  210\n",
      "[5 9 0 ... 9 8 4] [4 9 0 ... 9 5 4]\n",
      "77.41219512195123\n",
      "Iteration:  220\n",
      "[5 9 0 ... 9 8 4] [4 9 0 ... 9 5 4]\n",
      "78.00243902439024\n",
      "Iteration:  230\n",
      "[8 9 0 ... 9 8 4] [4 9 0 ... 9 5 4]\n",
      "78.52682926829269\n",
      "Iteration:  240\n",
      "[8 9 0 ... 9 8 4] [4 9 0 ... 9 5 4]\n",
      "78.98048780487805\n",
      "Iteration:  250\n",
      "[8 9 0 ... 9 8 4] [4 9 0 ... 9 5 4]\n",
      "79.39268292682927\n",
      "Iteration:  260\n",
      "[8 9 0 ... 9 8 4] [4 9 0 ... 9 5 4]\n",
      "79.84878048780489\n",
      "Iteration:  270\n",
      "[8 9 0 ... 9 8 4] [4 9 0 ... 9 5 4]\n",
      "80.23902439024391\n",
      "Iteration:  280\n",
      "[8 9 0 ... 9 8 4] [4 9 0 ... 9 5 4]\n",
      "80.60731707317073\n",
      "Iteration:  290\n",
      "[8 9 0 ... 9 8 4] [4 9 0 ... 9 5 4]\n",
      "80.9439024390244\n",
      "Iteration:  300\n",
      "[8 9 0 ... 9 8 4] [4 9 0 ... 9 5 4]\n",
      "81.2780487804878\n",
      "Iteration:  310\n",
      "[4 9 0 ... 9 8 4] [4 9 0 ... 9 5 4]\n",
      "81.59268292682927\n",
      "Iteration:  320\n",
      "[4 9 0 ... 9 8 4] [4 9 0 ... 9 5 4]\n",
      "81.87073170731706\n",
      "Iteration:  330\n",
      "[4 9 0 ... 9 8 4] [4 9 0 ... 9 5 4]\n",
      "82.1390243902439\n",
      "Iteration:  340\n",
      "[4 9 0 ... 9 8 4] [4 9 0 ... 9 5 4]\n",
      "82.40243902439023\n",
      "Iteration:  350\n",
      "[4 9 0 ... 9 8 4] [4 9 0 ... 9 5 4]\n",
      "82.69024390243902\n",
      "Iteration:  360\n",
      "[4 9 0 ... 9 8 4] [4 9 0 ... 9 5 4]\n",
      "82.89268292682927\n",
      "Iteration:  370\n",
      "[4 9 0 ... 9 8 4] [4 9 0 ... 9 5 4]\n",
      "83.1\n",
      "Iteration:  380\n",
      "[4 9 0 ... 9 8 4] [4 9 0 ... 9 5 4]\n",
      "83.3170731707317\n",
      "Iteration:  390\n",
      "[4 9 0 ... 9 8 4] [4 9 0 ... 9 5 4]\n",
      "83.53414634146341\n",
      "Iteration:  400\n",
      "[4 9 0 ... 9 8 4] [4 9 0 ... 9 5 4]\n",
      "83.7\n",
      "Iteration:  410\n",
      "[4 9 0 ... 9 8 4] [4 9 0 ... 9 5 4]\n",
      "83.86341463414634\n",
      "Iteration:  420\n",
      "[4 9 0 ... 9 8 4] [4 9 0 ... 9 5 4]\n",
      "84.07317073170731\n",
      "Iteration:  430\n",
      "[4 9 0 ... 9 8 4] [4 9 0 ... 9 5 4]\n",
      "84.21951219512195\n",
      "Iteration:  440\n",
      "[4 9 0 ... 9 8 4] [4 9 0 ... 9 5 4]\n",
      "84.41219512195121\n",
      "Iteration:  450\n",
      "[4 9 0 ... 9 8 4] [4 9 0 ... 9 5 4]\n",
      "84.59512195121951\n",
      "Iteration:  460\n",
      "[4 9 0 ... 9 8 4] [4 9 0 ... 9 5 4]\n",
      "84.74146341463414\n",
      "Iteration:  470\n",
      "[4 9 0 ... 9 8 4] [4 9 0 ... 9 5 4]\n",
      "84.89024390243902\n",
      "Iteration:  480\n",
      "[4 9 0 ... 9 8 4] [4 9 0 ... 9 5 4]\n",
      "85.00243902439024\n",
      "Iteration:  490\n",
      "[4 9 0 ... 9 8 4] [4 9 0 ... 9 5 4]\n",
      "85.11951219512196\n"
     ]
    }
   ],
   "source": [
    "W1, b1, W2, b2 = gradient_descent(X_train, Y_train, 0.10, 500)"
   ]
  },
  {
   "cell_type": "code",
   "execution_count": 105,
   "id": "c1f41972-afd6-4375-a08c-498e22c16f0f",
   "metadata": {},
   "outputs": [],
   "source": [
    "def make_predictions(X, W1, b1, W2, b2):\n",
    "    _, _, _, A2 = forward_prop(W1, b1, W2, b2, X)\n",
    "    predictions = get_predictions(A2)\n",
    "    return predictions\n",
    "\n",
    "def test_prediction(index, W1, b1, W2, b2):\n",
    "    current_image = X_train[:, index, None]\n",
    "    prediction = make_predictions(X_train[:, index, None], W1, b1, W2, b2)\n",
    "    label = Y_train[index]\n",
    "    print(\"Prediction: \", prediction)\n",
    "    print(\"Label: \", label)\n",
    "    \n",
    "    current_image = current_image.reshape((28, 28)) * 255\n",
    "    plt.gray()\n",
    "    plt.imshow(current_image, interpolation='nearest')\n",
    "    plt.show()"
   ]
  },
  {
   "cell_type": "markdown",
   "id": "bfede744-6f11-43ca-a5af-b66f4c9daeaa",
   "metadata": {},
   "source": [
    "# Predictions"
   ]
  },
  {
   "cell_type": "code",
   "execution_count": 106,
   "id": "3a1741ea-7a97-4980-9905-ef1b3e5bc616",
   "metadata": {},
   "outputs": [
    {
     "name": "stdout",
     "output_type": "stream",
     "text": [
      "Prediction:  [4]\n",
      "Label:  4\n"
     ]
    },
    {
     "data": {
      "image/png": "[encoded data removed]",
      "text/plain": [
       "<Figure size 640x480 with 1 Axes>"
      ]
     },
     "metadata": {},
     "output_type": "display_data"
    },
    {
     "name": "stdout",
     "output_type": "stream",
     "text": [
      "Prediction:  [9]\n",
      "Label:  9\n"
     ]
    },
    {
     "data": {
      "image/png": "[encoded data removed]",
      "text/plain": [
       "<Figure size 640x480 with 1 Axes>"
      ]
     },
     "metadata": {},
     "output_type": "display_data"
    },
    {
     "name": "stdout",
     "output_type": "stream",
     "text": [
      "Prediction:  [0]\n",
      "Label:  0\n"
     ]
    },
    {
     "data": {
      "image/png": "[encoded data removed]",
      "text/plain": [
       "<Figure size 640x480 with 1 Axes>"
      ]
     },
     "metadata": {},
     "output_type": "display_data"
    },
    {
     "name": "stdout",
     "output_type": "stream",
     "text": [
      "Prediction:  [1]\n",
      "Label:  1\n"
     ]
    },
    {
     "data": {
      "image/png": "[encoded data removed]",
      "text/plain": [
       "<Figure size 640x480 with 1 Axes>"
      ]
     },
     "metadata": {},
     "output_type": "display_data"
    }
   ],
   "source": [
    "test_prediction(0, W1, b1, W2, b2)\n",
    "test_prediction(1, W1, b1, W2, b2)\n",
    "test_prediction(2, W1, b1, W2, b2)\n",
    "test_prediction(3, W1, b1, W2, b2)"
   ]
  },
  {
   "cell_type": "code",
   "execution_count": 107,
   "id": "048d5cfd-c07d-4763-ba6a-525af40da239",
   "metadata": {},
   "outputs": [
    {
     "name": "stdout",
     "output_type": "stream",
     "text": [
      "[6 0 8 6 3 0 9 8 1 6 2 1 1 0 6 6 5 9 7 6 5 9 7 4 8 7 1 4 1 8 2 7 9 3 8 1 0\n",
      " 7 0 7 2 6 9 7 9 9 5 9 1 7 1 4 5 7 7 4 3 9 5 4 2 7 1 1 1 8 3 1 9 4 2 9 9 7\n",
      " 7 8 7 7 9 8 8 9 5 5 2 6 4 9 4 2 3 3 0 3 2 3 8 8 8 0 8 3 5 6 3 0 7 1 6 1 4\n",
      " 3 0 1 0 4 3 5 6 7 8 9 7 2 3 3 7 2 7 9 8 1 4 1 4 9 9 6 1 8 3 8 3 7 3 4 0 7\n",
      " 1 2 1 9 9 5 5 9 9 4 0 8 7 2 5 4 2 0 1 1 3 4 2 6 8 7 9 0 3 1 9 8 7 4 9 6 7\n",
      " 2 8 8 7 0 1 6 6 5 1 1 6 6 0 4 9 7 1 9 7 6 7 7 1 7 3 6 3 7 0 4 4 9 2 1 3 3\n",
      " 2 7 7 5 4 6 9 5 2 8 7 7 4 6 2 9 3 5 8 4 2 3 9 4 2 7 7 3 5 3 2 0 0 5 0 1 6\n",
      " 1 1 3 7 7 8 2 8 3 4 7 2 9 5 6 9 7 6 3 4 5 3 3 5 4 1 8 1 2 4 2 2 8 6 4 7 2\n",
      " 7 1 6 6 2 4 1 5 1 2 2 9 4 9 5 5 3 5 0 2 7 4 3 6 6 4 4 3 9 9 1 7 7 9 9 7 2\n",
      " 2 2 1 4 8 4 4 1 0 4 5 6 7 1 4 2 5 4 4 1 0 5 3 0 7 7 1 3 6 3 6 3 9 8 8 8 8\n",
      " 0 3 0 8 9 0 7 1 2 0 8 0 1 0 6 7 9 2 9 4 6 6 8 8 7 0 4 9 0 8 3 9 5 2 4 7 2\n",
      " 3 4 6 4 1 0 0 0 3 9 9 1 5 9 5 8 5 0 4 2 7 1 0 1 4 3 7 3 2 2 5 1 7 3 6 7 5\n",
      " 8 3 3 1 9 7 3 3 6 3 8 7 5 9 7 0 7 3 9 9 3 9 7 5 8 3 8 1 9 2 5 3 5 3 8 0 9\n",
      " 4 9 0 4 5 8 3 9 8 9 7 2 0 1 0 5 9 0 3 8 5 7 2 0 0 5 9 3 1 3 4 6 2 1 2 7 2\n",
      " 9 5 7 8 7 4 1 1 4 1 9 9 8 7 5 6 3 4 3 3 1 3 9 5 7 8 1 9 7 1 0 1 8 9 6 1 6\n",
      " 6 7 3 3 6 0 4 2 4 0 2 5 9 1 4 8 5 7 1 9 7 4 0 0 3 4 3 9 0 1 4 0 2 3 1 5 6\n",
      " 4 5 3 8 5 6 0 8 6 2 4 7 6 3 1 6 6 7 9 8 2 5 7 3 9 0 8 6 8 9 6 5 1 4 1 6 1\n",
      " 3 5 7 9 8 3 0 9 2 8 9 0 4 6 3 0 3 9 5 0 2 9 7 7 1 3 3 7 8 5 9 8 9 9 5 3 6\n",
      " 8 3 3 0 4 3 4 5 4 2 1 7 7 4 2 2 0 9 9 1 8 4 6 3 9 6 3 1 9 8 5 7 0 7 7 9 0\n",
      " 8 7 9 5 3 4 6 7 8 6 4 6 1 5 6 2 1 0 6 7 2 5 9 3 1 3 4 8 8 2 3 0 1 8 8 9 7\n",
      " 1 4 8 2 7 7 7 9 0 6 4 4 1 1 2 3 4 7 4 9 1 0 6 8 3 7 7 1 4 8 8 3 5 6 3 7 8\n",
      " 0 3 7 8 8 6 8 4 1 4 2 8 8 1 9 1 1 5 2 9 8 2 9 0 1 6 5 5 1 4 6 2 1 8 9 6 1\n",
      " 3 4 2 4 3 4 5 9 4 9 9 0 1 8 8 8 1 4 9 9 6 3 5 8 4 3 9 0 3 1 1 3 8 5 4 3 6\n",
      " 5 6 9 9 8 1 2 8 6 6 0 6 2 7 2 3 4 2 7 8 6 8 5 1 5 6 2 3 4 0 5 3 4 5 2 2 0\n",
      " 0 5 8 0 5 0 6 3 8 1 5 2 9 6 8 2 5 6 3 1 2 6 5 2 1 6 5 6 7 8 9 2 2 5 5 5 0\n",
      " 1 2 6 0 1 3 5 6 2 8 9 6 9 6 8 0 2 5 9 8 0 3 1 7 1 8 0 8 9 1 8 1 4 1 4 7 2\n",
      " 4 3 4 1 8 5 6 7 8 2 1 7 9 4 5 2 6 3 3 8 5 2 6 6 6 2 3 1 2 0 1 9 5 2 3 7 6\n",
      " 5] [6 0 2 5 3 0 4 5 1 6 3 1 1 0 6 6 5 9 7 6 8 9 7 4 8 7 1 4 1 8 2 7 9 3 8 1 0\n",
      " 7 0 7 2 6 9 9 9 7 5 9 1 7 7 4 5 7 7 4 3 9 5 2 4 7 1 1 1 8 3 1 9 4 2 9 9 9\n",
      " 3 8 7 7 9 8 8 9 5 5 2 6 4 9 4 2 3 7 0 3 2 3 8 8 8 0 5 8 5 6 3 0 7 1 6 1 4\n",
      " 3 0 1 0 4 5 5 6 7 8 4 7 2 3 3 7 2 7 4 8 1 9 1 4 9 9 6 1 8 3 8 3 7 3 4 0 7\n",
      " 1 2 1 9 7 5 5 9 9 4 5 8 9 2 3 4 2 0 1 1 3 4 2 2 8 7 9 0 5 1 9 8 7 4 9 6 7\n",
      " 2 4 8 7 0 1 6 6 5 1 1 6 5 0 0 9 7 1 9 7 6 7 7 1 7 3 6 3 7 0 4 4 9 3 1 5 3\n",
      " 2 1 7 5 4 6 9 5 2 8 7 8 4 3 2 9 3 5 8 4 2 3 9 4 7 7 7 3 5 3 2 0 0 5 0 1 6\n",
      " 1 1 5 7 7 8 2 8 3 4 7 2 9 5 6 7 7 6 3 4 5 3 3 5 4 1 8 1 2 4 2 2 8 6 4 7 2\n",
      " 7 1 0 6 2 4 1 5 1 2 2 9 6 9 3 5 3 5 0 2 7 4 3 6 6 4 4 3 9 9 1 7 9 9 5 7 2\n",
      " 7 1 1 4 8 9 4 1 0 4 8 6 7 1 4 2 5 4 4 1 0 5 5 0 7 7 5 3 6 7 8 3 9 2 8 8 5\n",
      " 0 3 0 8 9 0 7 1 2 0 8 0 1 0 6 7 9 2 9 4 2 6 9 8 7 0 4 9 0 8 3 7 5 2 4 7 2\n",
      " 3 4 6 4 1 0 0 0 8 9 9 1 5 9 5 8 5 0 4 2 7 8 0 1 4 3 7 3 2 2 3 1 7 3 6 7 5\n",
      " 8 3 3 1 4 7 3 3 2 8 8 7 3 9 7 0 7 5 9 4 3 9 7 5 4 8 8 1 9 8 5 3 5 5 8 0 9\n",
      " 4 9 0 4 5 5 3 9 8 9 7 2 0 1 0 5 2 0 3 2 5 7 2 0 0 5 9 3 1 3 4 6 2 1 2 2 2\n",
      " 9 5 7 8 7 4 4 1 4 1 9 9 8 7 5 6 3 4 3 3 1 3 9 5 9 8 1 9 8 1 0 1 8 9 6 1 6\n",
      " 6 7 3 9 6 0 4 2 4 0 4 3 9 1 4 8 5 7 1 9 7 4 0 0 7 4 3 3 0 1 4 0 2 2 1 5 6\n",
      " 4 3 3 8 5 5 0 9 6 7 4 7 6 3 1 6 6 7 9 8 2 5 7 3 9 0 8 6 8 9 6 6 1 4 1 6 1\n",
      " 3 5 7 9 8 3 0 9 2 8 9 0 4 6 3 9 3 9 5 0 2 9 7 7 1 9 8 7 1 5 3 8 4 9 5 3 6\n",
      " 9 7 3 0 4 3 4 5 4 2 1 7 7 4 2 2 0 7 5 3 8 4 6 3 6 6 3 1 9 3 5 7 0 7 7 9 0\n",
      " 8 7 7 5 2 9 6 3 7 0 9 6 1 5 6 2 8 0 6 7 2 5 9 2 1 3 4 5 8 2 3 0 1 8 8 9 9\n",
      " 1 4 4 2 7 7 7 9 0 6 4 4 1 1 2 5 4 7 4 9 1 0 6 8 3 7 7 8 4 8 8 3 5 6 0 7 8\n",
      " 2 3 7 8 8 6 8 4 7 4 2 2 8 1 9 1 1 5 2 9 8 2 9 0 1 6 5 5 1 4 6 2 1 8 9 6 1\n",
      " 8 4 2 4 3 4 9 9 4 4 9 0 1 5 8 2 1 4 9 5 6 3 5 8 4 3 9 0 3 1 1 3 8 5 4 3 6\n",
      " 3 6 9 9 5 1 5 8 8 6 0 6 2 7 2 3 9 2 9 8 5 8 6 1 5 6 2 5 4 0 5 5 4 5 2 8 0\n",
      " 0 5 8 0 5 0 6 3 8 1 5 2 9 6 5 2 5 6 3 1 2 5 8 2 1 6 5 6 7 8 9 2 2 5 0 5 0\n",
      " 1 2 6 3 8 3 5 6 2 8 7 6 9 6 7 0 2 5 9 8 0 3 1 7 1 8 0 5 9 1 8 1 4 1 4 7 2\n",
      " 4 3 4 1 4 5 6 7 8 2 8 7 9 4 5 2 6 3 3 8 5 2 6 6 6 5 2 8 2 0 1 9 5 2 3 7 6\n",
      " 3]\n",
      "85.1%\n"
     ]
    }
   ],
   "source": [
    "dev_predictions = make_predictions(X_dev, W1, b1, W2, b2)\n",
    "print(\"{}%\".format(get_accuracy(dev_predictions, Y_dev) * 100))"
   ]
  },
  {
   "cell_type": "markdown",
   "id": "8149ed18-3d30-4424-a218-c64c17dbf8c3",
   "metadata": {},
   "source": [
    "# Accuracy"
   ]
  },
  {
   "cell_type": "markdown",
   "id": "bdb06132-38b0-4635-8e1e-462465c85dfb",
   "metadata": {},
   "source": [
    "Still 85.1% accuracy, so our model generalized from the training data pretty well."
   ]
  },
  {
   "cell_type": "code",
   "execution_count": null,
   "id": "83b9bbc0-f9b4-4678-a734-675789133062",
   "metadata": {},
   "outputs": [],
   "source": []
  }
 ],
 "metadata": {
  "kernelspec": {
   "display_name": "Python 3 (ipykernel)",
   "language": "python",
   "name": "python3"
  },
  "language_info": {
   "codemirror_mode": {
    "name": "ipython",
    "version": 3
   },
   "file_extension": ".py",
   "mimetype": "text/x-python",
   "name": "python",
   "nbconvert_exporter": "python",
   "pygments_lexer": "ipython3",
   "version": "3.11.4"
  }
 },
 "nbformat": 4,
 "nbformat_minor": 5
}
